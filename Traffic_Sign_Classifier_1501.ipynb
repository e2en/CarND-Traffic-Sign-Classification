{
 "cells": [
  {
   "cell_type": "markdown",
   "metadata": {},
   "source": [
    "# Self-Driving Car Engineer Nanodegree\n",
    "\n",
    "## Deep Learning\n",
    "\n",
    "## Project: Build a Traffic Sign Recognition Classifier\n",
    "\n",
    "In this notebook, a template is provided for you to implement your functionality in stages which is required to successfully complete this project. If additional code is required that cannot be included in the notebook, be sure that the Python code is successfully imported and included in your submission, if necessary. Sections that begin with **'Implementation'** in the header indicate where you should begin your implementation for your project. Note that some sections of implementation are optional, and will be marked with **'Optional'** in the header.\n",
    "\n",
    "In addition to implementing code, there will be questions that you must answer which relate to the project and your implementation. Each section where you will answer a question is preceded by a **'Question'** header. Carefully read each question and provide thorough answers in the following text boxes that begin with **'Answer:'**. Your project submission will be evaluated based on your answers to each of the questions and the implementation you provide.\n",
    "\n",
    ">**Note:** Code and Markdown cells can be executed using the **Shift + Enter** keyboard shortcut. In addition, Markdown cells can be edited by typically double-clicking the cell to enter edit mode."
   ]
  },
  {
   "cell_type": "markdown",
   "metadata": {},
   "source": [
    "---\n",
    "## Step 0: Load The Data"
   ]
  },
  {
   "cell_type": "code",
   "execution_count": null,
   "metadata": {
    "collapsed": false
   },
   "outputs": [],
   "source": [
    "# Load pickled data\n",
    "import pickle\n",
    "\n",
    "# TODO: Fill this in based on where you saved the training and testing data\n",
    "\n",
    "training_file = 'train.p'\n",
    "testing_file = 'test.p'\n",
    "\n",
    "with open(training_file, mode='rb') as f:\n",
    "    train = pickle.load(f)\n",
    "with open(testing_file, mode='rb') as f:\n",
    "    test = pickle.load(f)\n",
    "    \n",
    "X_train, y_train = train['features'], train['labels']\n",
    "X_test, y_test = test['features'], test['labels']"
   ]
  },
  {
   "cell_type": "markdown",
   "metadata": {},
   "source": [
    "### Data Visualization"
   ]
  },
  {
   "cell_type": "code",
   "execution_count": null,
   "metadata": {
    "collapsed": false
   },
   "outputs": [],
   "source": [
    "import random\n",
    "import numpy as np\n",
    "import matplotlib.pyplot as plt\n",
    "%matplotlib inline\n",
    "\n",
    "index = random.randint(0, len(X_train))\n",
    "image = X_train[index].squeeze()\n",
    "\n",
    "plt.figure(figsize=(1,1))\n",
    "plt.imshow(image)\n",
    "print(y_train[index])"
   ]
  },
  {
   "cell_type": "markdown",
   "metadata": {},
   "source": [
    "### Image Augmentation"
   ]
  },
  {
   "cell_type": "code",
   "execution_count": null,
   "metadata": {
    "collapsed": false
   },
   "outputs": [],
   "source": [
    "from sklearn.utils import shuffle\n",
    "\n",
    "### Preprocess the data here.\n",
    "### Feel free to use as many code cells as needed.\n",
    "import cv2\n",
    "import scipy.ndimage\n",
    "\n",
    "print(type(X_train),X_train.shape)\n",
    "plt.subplot(121), plt.hist(y_train, bins=43)\n",
    "\n",
    "image_shape = X_train[0].shape\n",
    "inputs_per_class = np.bincount(y_train)\n",
    "max_inputs = np.max(inputs_per_class)\n",
    "\n",
    "angles = [-10, 10, -15, 15, -20, 20]\n",
    "\n",
    "for i in range(len(inputs_per_class)):\n",
    "    input_ratio = min(int(max_inputs / inputs_per_class[i]) - 1, len(angles) - 1)\n",
    "\n",
    "    if input_ratio <= 1:\n",
    "        continue\n",
    "\n",
    "    new_features = []\n",
    "    new_labels = []\n",
    "    mask = np.where(y_train == i)\n",
    "\n",
    "    for j in range(input_ratio):\n",
    "        for feature in X_train[mask]:\n",
    "            new_features.append(scipy.ndimage.rotate(feature, angles[j], reshape=False))\n",
    "            new_labels.append(i)\n",
    "\n",
    "    X_train = np.append(X_train, new_features, axis=0)\n",
    "    y_train = np.append(y_train, new_labels, axis=0)\n",
    "    \n",
    "def preprocess_for_nn(data):\n",
    "    data=np.mean(data,axis=3) #grayscale conversion\n",
    "    data-=int(np.mean(data))\n",
    "    data/=int(np.std(data))\n",
    "    num_channels=1\n",
    "    return data.reshape(-1, image_shape[0], image_shape[1], num_channels).astype(np.float32)\n",
    "\n",
    "def brightness_equilization(img):\n",
    "    hist,bins = np.histogram(img.flatten(),256,[0,256])\n",
    "    cdf = hist.cumsum()\n",
    "    cdf_normalized = cdf * hist.max()/ cdf.max()\n",
    "    cdf_m = np.ma.masked_equal(cdf,0)\n",
    "    cdf_m = (cdf_m - cdf_m.min())*255/(cdf_m.max()-cdf_m.min())\n",
    "    cdf = np.ma.filled(cdf_m,0).astype('uint8')\n",
    "    return cdf[img]\n",
    "\n",
    "print(type(X_train),X_train.shape)\n",
    "plt.subplot(122),plt.hist(y_train, bins=43)"
   ]
  },
  {
   "cell_type": "markdown",
   "metadata": {},
   "source": [
    "### Validation Test Split"
   ]
  },
  {
   "cell_type": "code",
   "execution_count": null,
   "metadata": {
    "collapsed": false
   },
   "outputs": [],
   "source": [
    "import sklearn.model_selection\n",
    "from sklearn.model_selection import train_test_split\n",
    "#%20 percent of training set will splited to validation set\n",
    "\n",
    "X_train, X_validation, y_train, y_validation = sklearn.model_selection.train_test_split(X_train, y_train, test_size=0.2, random_state=0)"
   ]
  },
  {
   "cell_type": "markdown",
   "metadata": {},
   "source": [
    "---\n",
    "\n",
    "## Step 1: Dataset Summary & Exploration\n",
    "\n",
    "The pickled data is a dictionary with 4 key/value pairs:\n",
    "\n",
    "- `'features'` is a 4D array containing raw pixel data of the traffic sign images, (num examples, width, height, channels).\n",
    "- `'labels'` is a 2D array containing the label/class id of the traffic sign. The file `signnames.csv` contains id -> name mappings for each id.\n",
    "- `'sizes'` is a list containing tuples, (width, height) representing the the original width and height the image.\n",
    "- `'coords'` is a list containing tuples, (x1, y1, x2, y2) representing coordinates of a bounding box around the sign in the image. **THESE COORDINATES ASSUME THE ORIGINAL IMAGE. THE PICKLED DATA CONTAINS RESIZED VERSIONS (32 by 32) OF THESE IMAGES**\n",
    "\n",
    "Complete the basic data summary below."
   ]
  },
  {
   "cell_type": "code",
   "execution_count": null,
   "metadata": {
    "collapsed": false
   },
   "outputs": [],
   "source": [
    "### Replace each question mark with the appropriate value.\n",
    "\n",
    "# TODO: Number of training examples\n",
    "n_train = X_train.shape[0]\n",
    "\n",
    "# TODO: Number of validation examples.\n",
    "n_valid = X_validation.shape[0]\n",
    "\n",
    "# TODO: Number of testing examples.\n",
    "n_test = X_test.shape[0]\n",
    "\n",
    "# TODO: What's the shape of an traffic sign image?\n",
    "image_shape = X_train[0].shape\n",
    "\n",
    "# TODO: How many unique classes/labels there are in the dataset.\n",
    "n_classes = len(set(y_train))\n",
    "\n",
    "print(\"Number of training examples =\", n_train)\n",
    "print(\"Number of validation examples =\", n_valid)\n",
    "print(\"Number of testing examples =\", n_test)\n",
    "print(\"Image data shape =\", image_shape)\n",
    "print(\"Number of classes =\", n_classes)"
   ]
  },
  {
   "cell_type": "markdown",
   "metadata": {},
   "source": [
    "Visualize the German Traffic Signs Dataset using the pickled file(s). This is open ended, suggestions include: plotting traffic sign images, plotting the count of each sign, etc.\n",
    "\n",
    "The [Matplotlib](http://matplotlib.org/) [examples](http://matplotlib.org/examples/index.html) and [gallery](http://matplotlib.org/gallery.html) pages are a great resource for doing visualizations in Python.\n",
    "\n",
    "**NOTE:** It's recommended you start with something simple first. If you wish to do more, come back to it after you've completed the rest of the sections."
   ]
  },
  {
   "cell_type": "code",
   "execution_count": null,
   "metadata": {
    "collapsed": false
   },
   "outputs": [],
   "source": [
    "### Data exploration visualization goes here.\n",
    "### Feel free to use as many code cells as needed.\n",
    "import matplotlib.pyplot as plt\n",
    "import random\n",
    "import numpy as np\n",
    "# Visualizations will be shown in the notebook.\n",
    "%matplotlib inline\n",
    "\n",
    "def imshow_by_class(X,y,class_number):\n",
    "    no_samples=[]\n",
    "    labels=set(y)\n",
    "    for label in labels:\n",
    "        idx=np.nonzero((y)==label)\n",
    "        no_samples.append(idx[0].shape[0])\n",
    "        if label==class_number:\n",
    "            image=X[idx[0][0]]\n",
    "            plt.imshow(image)\n",
    "    return X,image, idx\n",
    "\n",
    "def imshow_by_idx(X,y,idx):\n",
    "    labels=set(y)\n",
    "    for label in labels:\n",
    "        #idx=np.nonzero((y)==label)\n",
    "        if label==class_number:\n",
    "            image=X[idx[0][0]]\n",
    "    return image\n",
    "    \n",
    "class_number=4\n",
    "X,image, idx=imshow_by_class(X_train,y_train,class_number)\n",
    "\n",
    "image2=imshow_by_idx(X_train,y_train,idx)\n",
    "\n",
    "plt.subplot(121),plt.imshow(X[idx[0][0]])\n",
    "plt.subplot(122),plt.imshow(image)\n",
    "\n",
    "#plt.imshow(image)"
   ]
  },
  {
   "cell_type": "markdown",
   "metadata": {},
   "source": [
    "----\n",
    "\n",
    "## Step 2: Design and Test a Model Architecture\n",
    "\n",
    "Design and implement a deep learning model that learns to recognize traffic signs. Train and test your model on the [German Traffic Sign Dataset](http://benchmark.ini.rub.de/?section=gtsrb&subsection=dataset).\n",
    "\n",
    "There are various aspects to consider when thinking about this problem:\n",
    "\n",
    "- Neural network architecture\n",
    "- Play around preprocessing techniques (normalization, rgb to grayscale, etc)\n",
    "- Number of examples per label (some have more than others).\n",
    "- Generate fake data.\n",
    "\n",
    "Here is an example of a [published baseline model on this problem](http://yann.lecun.com/exdb/publis/pdf/sermanet-ijcnn-11.pdf). It's not required to be familiar with the approach used in the paper but, it's good practice to try to read papers like these.\n",
    "\n",
    "**NOTE:** The LeNet-5 implementation shown in the [classroom](https://classroom.udacity.com/nanodegrees/nd013/parts/fbf77062-5703-404e-b60c-95b78b2f3f9e/modules/6df7ae49-c61c-4bb2-a23e-6527e69209ec/lessons/601ae704-1035-4287-8b11-e2c2716217ad/concepts/d4aca031-508f-4e0b-b493-e7b706120f81) at the end of the CNN lesson is a solid starting point. You'll have to change the number of classes and possibly the preprocessing, but aside from that it's plug and play!"
   ]
  },
  {
   "cell_type": "markdown",
   "metadata": {},
   "source": [
    "### Implementation\n",
    "\n",
    "Use the code cell (or multiple code cells, if necessary) to implement the first step of your project. Once you have completed your implementation and are satisfied with the results, be sure to thoroughly answer the questions that follow."
   ]
  },
  {
   "cell_type": "markdown",
   "metadata": {},
   "source": [
    "### Preprocess"
   ]
  },
  {
   "cell_type": "code",
   "execution_count": null,
   "metadata": {
    "collapsed": false
   },
   "outputs": [],
   "source": [
    "X_train = brightness_equilization(X_train)\n",
    "X_train = preprocess_for_nn(X_train)\n",
    "\n",
    "X_validation = brightness_equilization(X_validation)\n",
    "X_validation = preprocess_for_nn(X_validation)\n",
    "\n",
    "X_test = brightness_equilization(X_test)\n",
    "X_test = preprocess_for_nn(X_test)\n",
    "\n",
    "# TODO: Number of training examples\n",
    "n_train = X_train.shape[0]\n",
    "\n",
    "# TODO: Number of validation examples.\n",
    "n_valid = X_validation.shape[0]\n",
    "\n",
    "# TODO: Number of testing examples.\n",
    "n_test = X_test.shape[0]\n",
    "\n",
    "# TODO: What's the shape of an traffic sign image?\n",
    "image_shape = X_train[0].shape\n",
    "\n",
    "# TODO: How many unique classes/labels there are in the dataset.\n",
    "n_classes = len(set(y_train))\n",
    "\n",
    "print(\"Number of training examples =\", n_train)\n",
    "print(\"Number of validation examples =\", n_valid)\n",
    "print(\"Number of testing examples =\", n_test)\n",
    "print(\"Image data shape =\", image_shape)\n",
    "print(\"Number of classes =\", n_classes)"
   ]
  },
  {
   "cell_type": "markdown",
   "metadata": {},
   "source": [
    "### Hyperparameters"
   ]
  },
  {
   "cell_type": "code",
   "execution_count": null,
   "metadata": {
    "collapsed": false
   },
   "outputs": [],
   "source": [
    "import tensorflow as tf\n",
    "\n",
    "# Hyperparameters\n",
    "EPOCHS = 30\n",
    "BATCH_SIZE = 128\n",
    "mu = 0\n",
    "sigma = 0.1\n",
    "keep_prop=0.5\n",
    "rate=0.001\n",
    "beta = 1e-4"
   ]
  },
  {
   "cell_type": "markdown",
   "metadata": {},
   "source": [
    "### Model Architecture"
   ]
  },
  {
   "cell_type": "code",
   "execution_count": null,
   "metadata": {
    "collapsed": false
   },
   "outputs": [],
   "source": [
    "from tensorflow.contrib.layers import flatten\n",
    "\n",
    "graph=tf.Graph()\n",
    "\n",
    "with graph.as_default():\n",
    "    \n",
    "    # Placeholders\n",
    "    x = tf.placeholder(tf.float32, (None, 32, 32, 1))\n",
    "    y = tf.placeholder(tf.int32, (None))\n",
    "    one_hot_y = tf.one_hot(y, 43)\n",
    "    \n",
    "    # Layer 0: Convolutional. Input = 32x32x1. Output = 32x32x8.\n",
    "    conv0_W = tf.Variable(tf.truncated_normal(shape=(1, 1, 1, 8), mean = mu, stddev = sigma), name='conv0_W')\n",
    "    conv0_b = tf.Variable(tf.zeros(8), name='conv0_b')\n",
    "    conv0   = tf.nn.conv2d(x, conv0_W, strides=[1, 1, 1, 1], padding='VALID') + conv0_b\n",
    "\n",
    "    # Activation.\n",
    "    conv0 = tf.nn.relu(conv0)\n",
    "    \n",
    "    # Layer 1: Convolutional. Input = 32x32x8. Output = 28x28x16.\n",
    "    conv1_W = tf.Variable(tf.truncated_normal(shape=(5, 5, 8, 16), mean = mu, stddev = sigma))\n",
    "    conv1_b = tf.Variable(tf.zeros(16))\n",
    "    conv1   = tf.nn.conv2d(conv0, conv1_W, strides=[1, 1, 1, 1], padding='VALID') + conv1_b\n",
    "\n",
    "    # Activation.\n",
    "    conv1 = tf.nn.relu(conv1)\n",
    "\n",
    "    # Pooling. Input = 28x28x16. Output = 14x14x16.\n",
    "    conv1 = tf.nn.max_pool(conv1, ksize=[1, 2, 2, 1], strides=[1, 2, 2, 1], padding='VALID')\n",
    "    \n",
    "    # Dropout\n",
    "    conv1=tf.nn.dropout(conv1, keep_prop) \n",
    "\n",
    "    # Layer 2: Convolutional. Output = 10x10x32.\n",
    "    conv2_W = tf.Variable(tf.truncated_normal(shape=(5, 5, 16, 32), mean = mu, stddev = sigma))\n",
    "    conv2_b = tf.Variable(tf.zeros(32))\n",
    "    conv2   = tf.nn.conv2d(conv1, conv2_W, strides=[1, 1, 1, 1], padding='VALID') + conv2_b\n",
    "    \n",
    "    # Activation.\n",
    "    conv2 = tf.nn.relu(conv2)\n",
    "\n",
    "    # Pooling. Input = 10x10x32. Output = 5x5x32.\n",
    "    conv2 = tf.nn.max_pool(conv2, ksize=[1, 2, 2, 1], strides=[1, 2, 2, 1], padding='VALID')\n",
    "    \n",
    "    # Dropout\n",
    "    conv2=tf.nn.dropout(conv2, keep_prop)\n",
    "\n",
    "    # Flatten. Input = 5x5x32. Output = 800.\n",
    "    fc0   = flatten(conv2)\n",
    "    \n",
    "    # Layer 3: Fully Connected. Input = 800. Output = 1024.\n",
    "    fc1_W = tf.Variable(tf.truncated_normal(shape=(800, 1024), mean = mu, stddev = sigma))\n",
    "    fc1_b = tf.Variable(tf.zeros(1024))\n",
    "    fc1   = tf.matmul(fc0, fc1_W) + fc1_b\n",
    "    \n",
    "    # Activation.\n",
    "    fc1    = tf.nn.relu(fc1)\n",
    "    \n",
    "    # Dropout\n",
    "    fc1=tf.nn.dropout(fc1, keep_prop)\n",
    "\n",
    "    # Layer 4: Fully Connected. Input = 1024. Output = 1024.\n",
    "    fc2_W  = tf.Variable(tf.truncated_normal(shape=(1024, 1024), mean = mu, stddev = sigma))\n",
    "    fc2_b  = tf.Variable(tf.zeros(1024))\n",
    "    fc2    = tf.matmul(fc1, fc2_W) + fc2_b\n",
    "    \n",
    "    # Activation.\n",
    "    fc2    = tf.nn.relu(fc2)\n",
    "    \n",
    "    # Dropout\n",
    "    fc2=tf.nn.dropout(fc2, keep_prop)\n",
    "    \n",
    "    # Layer 5: Fully Connected. Input = 1024. Output = 1024.\n",
    "    fc3_W  = tf.Variable(tf.truncated_normal(shape=(1024, 1024), mean = mu, stddev = sigma))\n",
    "    fc3_b  = tf.Variable(tf.zeros(1024))\n",
    "    fc3    = tf.matmul(fc2, fc3_W) + fc3_b\n",
    "    \n",
    "    # Activation.\n",
    "    fc3    = tf.nn.relu(fc3)\n",
    "    \n",
    "    # Dropout\n",
    "    fc3=tf.nn.dropout(fc3, keep_prop)\n",
    "\n",
    "    # Layer 6: Fully Connected. Input = 1024. Output = 43.\n",
    "    fc4_W  = tf.Variable(tf.truncated_normal(shape=(1024, 43), mean = mu, stddev = sigma))\n",
    "    fc4_b  = tf.Variable(tf.zeros(43))\n",
    "    logits = tf.matmul(fc3, fc4_W) + fc4_b\n",
    "    \n",
    "    softmax_probs = tf.nn.softmax(logits)\n",
    "    predicted_labels = tf.argmax(logits,1)\n",
    "    cross_entropy = tf.nn.softmax_cross_entropy_with_logits(logits, one_hot_y)\n",
    "    loss = tf.reduce_mean(cross_entropy) + beta * (tf.nn.l2_loss(conv0_W) + tf.nn.l2_loss(conv1_W) + tf.nn.l2_loss(conv2_W) + tf.nn.l2_loss(fc1_W) + tf.nn.l2_loss(fc2_W) + tf.nn.l2_loss(fc3_W) + tf.nn.l2_loss(fc4_W))    \n",
    "    optimizer = tf.train.AdamOptimizer(learning_rate = rate)\n",
    "    train = optimizer.minimize(loss)\n",
    "    correct_prediction = tf.equal(tf.argmax(logits, 1), tf.argmax(one_hot_y, 1))\n",
    "    accuracy = tf.reduce_mean(tf.cast(correct_prediction, tf.float32))\n",
    "    \n",
    "    init = tf.initialize_all_variables()"
   ]
  },
  {
   "cell_type": "code",
   "execution_count": null,
   "metadata": {
    "collapsed": false,
    "scrolled": false
   },
   "outputs": [],
   "source": [
    "session = tf.Session(graph = graph)\n",
    "_ = session.run([init])\n",
    "\n",
    "#save_file = 'trained_tsr_model_v1.ckpt'\n",
    "#saver = tf.train.Saver()\n",
    "\n",
    "print(\"Training...\")\n",
    "print()\n",
    "\n",
    "for i in range(EPOCHS):\n",
    "    X_train, y_train = shuffle(X_train, y_train)\n",
    "    num_examples = len(X_train)\n",
    "    total_accuracy = 0\n",
    "    total_loss = 0\n",
    "    for offset in range(0, num_examples, BATCH_SIZE):\n",
    "        end = offset + BATCH_SIZE\n",
    "        batch_x, batch_y = X_train[offset:end], y_train[offset:end]\n",
    "        accuracy_value, _, loss_value = session.run([accuracy, train, loss], feed_dict={x: batch_x, y: batch_y})\n",
    "        \n",
    "        total_accuracy += (accuracy_value * len(batch_x))\n",
    "        total_loss += (loss_value  * len(batch_x))\n",
    "    \n",
    "    total_accuracy = total_accuracy / num_examples\n",
    "    total_loss = total_loss / num_examples\n",
    "    \n",
    "    print(\"EPOCH {} ...\".format(i+1))\n",
    "    print(\"Validation Accuracy = {:.3f}\".format(total_accuracy))\n",
    "    print(\"Loss: \", total_loss)\n",
    "    print()\n",
    "    \n",
    "#saver.save(sess, save_file)\n",
    "#print('Trained model saved.')"
   ]
  },
  {
   "cell_type": "markdown",
   "metadata": {},
   "source": [
    "### Test"
   ]
  },
  {
   "cell_type": "code",
   "execution_count": null,
   "metadata": {
    "collapsed": false
   },
   "outputs": [],
   "source": [
    "num_examples = len(X_test)\n",
    "total_test_accuracy = 0\n",
    "total_test_loss = 0\n",
    "\n",
    "for offset in range(0, num_examples, BATCH_SIZE):\n",
    "    end = offset + BATCH_SIZE\n",
    "    batch_x, batch_y = X_test[offset:end], y_test[offset:end]\n",
    "    test_accuracy_value, _, test_loss_value = session.run([accuracy, train, loss], feed_dict={x: batch_x, y: batch_y})\n",
    "        \n",
    "    total_test_accuracy += (test_accuracy_value * len(batch_x))\n",
    "    total_test_loss += (test_loss_value  * len(batch_x))\n",
    "    \n",
    "total_test_accuracy = total_test_accuracy / num_examples\n",
    "total_test_loss = total_test_loss / num_examples\n",
    "\n",
    "print(\"Test Accuracy = {:.3f}\".format(total_test_accuracy))\n",
    "print(\"Test Loss = {:.3f}\".format(total_test_loss))"
   ]
  },
  {
   "cell_type": "markdown",
   "metadata": {},
   "source": [
    "### Question 1 \n",
    "\n",
    "_Describe how you preprocessed the data. Why did you choose that technique?_"
   ]
  },
  {
   "cell_type": "markdown",
   "metadata": {},
   "source": [
    "**Answer:**"
   ]
  },
  {
   "cell_type": "markdown",
   "metadata": {
    "collapsed": true
   },
   "source": [
    "I augmented training dataset due underrepresented traffic sign classes at first. By rotating images in a couple of\n",
    "different angles both dataset has been increased and test accuracy has been increased a bit.\n",
    "\n",
    "Dataset also converted to grayscale images, zero-centered and normalized\n",
    "\n",
    "Lastly, brightness equilization has been applied. Histogram normalization used for to compensate low illuminated\n",
    "traffic signs to better recognized."
   ]
  },
  {
   "cell_type": "markdown",
   "metadata": {},
   "source": [
    "### Question 2\n",
    "\n",
    "_Describe how you set up the training, validation and testing data for your model. **Optional**: If you generated additional data, how did you generate the data? Why did you generate the data? What are the differences in the new dataset (with generated data) from the original dataset?_"
   ]
  },
  {
   "cell_type": "markdown",
   "metadata": {},
   "source": [
    "**Answer:**"
   ]
  },
  {
   "cell_type": "markdown",
   "metadata": {
    "collapsed": true
   },
   "source": [
    "validation data has been splitted from training set as to be %20 and %80 accordingly.\n",
    "additional data is generated by image augmentation and underrepresented images rotated to have more images. "
   ]
  },
  {
   "cell_type": "markdown",
   "metadata": {},
   "source": [
    "### Question 3\n",
    "\n",
    "_What does your final architecture look like? (Type of model, layers, sizes, connectivity, etc.)  For reference on how to build a deep neural network using TensorFlow, see [Deep Neural Network in TensorFlow\n",
    "](https://classroom.udacity.com/nanodegrees/nd013/parts/fbf77062-5703-404e-b60c-95b78b2f3f9e/modules/6df7ae49-c61c-4bb2-a23e-6527e69209ec/lessons/b516a270-8600-4f93-a0a3-20dfeabe5da6/concepts/83a3a2a2-a9bd-4b7b-95b0-eb924ab14432) from the classroom._\n"
   ]
  },
  {
   "cell_type": "markdown",
   "metadata": {},
   "source": [
    "**Answer:**"
   ]
  },
  {
   "cell_type": "markdown",
   "metadata": {
    "collapsed": true
   },
   "source": [
    "CNN Architecture:\n",
    "    \n",
    "    Convolution by 1x1x8\n",
    "    ReLu\n",
    "-------------------\n",
    "    Convolution by 5x5x16\n",
    "    ReLu\n",
    "    Max Pooling\n",
    "    Dropout\n",
    "-------------------\n",
    "    Convolution by 5x5x32\n",
    "    ReLu\n",
    "    Max Pooling\n",
    "    Dropout\n",
    "    Flatten (800)\n",
    "-------------------\n",
    "    Fully Connected Layer (1024)\n",
    "    ReLu\n",
    "    Dropout\n",
    "-------------------\n",
    "    Fully Connected Layer (1024)\n",
    "    ReLu\n",
    "    Dropout\n",
    "-------------------\n",
    "    Fully Connected Layer (43)\n",
    "    Softmax\n",
    "-------------------\n",
    "\n",
    "to avoid overfitting l2 regularization and dropout methods are applied also. The other thing that could be useful to implement is batch-normalization. According to its benefits like avoiding 'died' neurons and availability to use higher learning rates I think it will be worth to try out for do more.\n"
   ]
  },
  {
   "cell_type": "markdown",
   "metadata": {},
   "source": [
    "### Question 4\n",
    "\n",
    "_How did you train your model? (Type of optimizer, batch size, epochs, hyperparameters, etc.)_\n"
   ]
  },
  {
   "cell_type": "markdown",
   "metadata": {},
   "source": [
    "**Answer:**"
   ]
  },
  {
   "cell_type": "markdown",
   "metadata": {},
   "source": [
    "AdamOptimizer has been used\n",
    "\n",
    "Batch size: 128\n",
    "\n",
    "Epochs: 30 (100 also tried but not that much difference between 30)\n",
    "\n",
    "Beta for L2 regularization: 1e-04\n",
    "\n",
    "\n",
    "learning rate: 0.001 (higher and lower learning rates tried and 0.001 found as to give best result. Learning rate decay also tried and training duration has been reduced a bit and decay rate seemed as an important parameter to tune as well."
   ]
  },
  {
   "cell_type": "markdown",
   "metadata": {},
   "source": [
    "### Question 5\n",
    "\n",
    "\n",
    "_What approach did you take in coming up with a solution to this problem? It may have been a process of trial and error, in which case, outline the steps you took to get to the final solution and why you chose those steps. Perhaps your solution involved an already well known implementation or architecture. In this case, discuss why you think this is suitable for the current problem._"
   ]
  },
  {
   "cell_type": "markdown",
   "metadata": {},
   "source": [
    "**Answer:**"
   ]
  },
  {
   "cell_type": "markdown",
   "metadata": {},
   "source": [
    "I tried many different network sizes and dimensions for both convolutional layers and fc layers. Simply doesn't changed anything a lot even though I increased number of layer of its dimensions. So I choose to increase depth of convolutions and number of fc layers due dramatic differences between signs both in color and shape. As an observation, dimension increments changes computing duration a lot.\n",
    "\n",
    "For hyperparameter tunnings, I started from values already recommended and search between these values if I could get better but doesn't find any other value that I can share.\n",
    "\n",
    "Dataset variance is seemed very important to have better training and augmentation techniques are important. Datasets couldn't cover all angle and brightness variances so augmentation is powerful to close the gap of datasets. So further improvements will be focused in this area. \n",
    "\n",
    "Overfitting avoidance methods are also affect difference between training and test accuracy results a lot. After implementation of L2 regularization and dropout the gap between them reduced to %9. Batch normalization will be studied more and tried to implement.\n",
    "\n",
    "Lastly, post-processing definitions should be implemented also. Confusion matrix will be helpful to see which signs are recognized worse than others."
   ]
  },
  {
   "cell_type": "markdown",
   "metadata": {},
   "source": [
    "---\n",
    "\n",
    "## Step 3: Test a Model on New Images\n",
    "\n",
    "Take several pictures of traffic signs that you find on the web or around you (at least five), and run them through your classifier on your computer to produce example results. The classifier might not recognize some local signs but it could prove interesting nonetheless.\n",
    "\n",
    "You may find `signnames.csv` useful as it contains mappings from the class id (integer) to the actual sign name."
   ]
  },
  {
   "cell_type": "markdown",
   "metadata": {},
   "source": [
    "### Implementation\n",
    "\n",
    "Use the code cell (or multiple code cells, if necessary) to implement the first step of your project. Once you have completed your implementation and are satisfied with the results, be sure to thoroughly answer the questions that follow."
   ]
  },
  {
   "cell_type": "code",
   "execution_count": null,
   "metadata": {
    "collapsed": false
   },
   "outputs": [],
   "source": [
    "### Load the images and plot them here.\n",
    "### Feel free to use as many code cells as needed.\n",
    "\n",
    "import matplotlib.image as mpimg\n",
    "    \n",
    "imgs = ['60.png', 'forbid.png', 'hochwasser.png', 'priority.png', '28_children.png', '33_right.png', 'bumpy.png', 'right.png']\n",
    "\n",
    "new_inputs = []\n",
    "processed_images = []\n",
    "processed_new_images = []\n",
    "\n",
    "for imgname in imgs:\n",
    "    image = mpimg.imread('images/' + imgname)\n",
    "    image = image.astype(np.float32)\n",
    "    new_inputs.append(image)\n",
    "    \n",
    "for image in new_inputs:\n",
    "        image = cv2.resize(image, (image_shape[0], image_shape[1])) # Resize image\n",
    "        image = np.mean(image, axis=2) # convert image to grayscale\n",
    "        image -= int(np.mean(image)) # zero-center image\n",
    "        image /= int(np.std(image)) # normalize image\n",
    "        processed_images.append(image)\n",
    "\n",
    "processed_new_images = np.array(processed_images)\n",
    "processed_new_images = processed_new_images.reshape(-1, image_shape[0], image_shape[1], 1).astype(np.float32)\n",
    "\n",
    "print(type(processed_new_images), processed_new_images.shape)"
   ]
  },
  {
   "cell_type": "markdown",
   "metadata": {},
   "source": [
    "### Question 6\n",
    "\n",
    "_Choose five candidate images of traffic signs and provide them in the report. Are there any particular qualities of the image(s) that might make classification difficult? It could be helpful to plot the images in the notebook._\n",
    "\n"
   ]
  },
  {
   "cell_type": "markdown",
   "metadata": {},
   "source": [
    "**Answer:**"
   ]
  },
  {
   "cell_type": "code",
   "execution_count": null,
   "metadata": {
    "collapsed": false
   },
   "outputs": [],
   "source": [
    "X_collected = processed_new_images\n",
    "y_collected_true = np.array([3, 9, 17, 12, 28, 33, 22, 36])\n",
    "\n",
    "pred = session.run([predicted_labels], feed_dict={x: X_collected})[0]\n",
    "\n",
    "topFive = session.run(tf.nn.top_k(softmax_probs, 5), feed_dict={x: X_collected})\n",
    "values_topFive = topFive[0]\n",
    "indices_topFive = topFive[1]\n",
    "\n",
    "print(values)\n",
    "print()\n",
    "print(indices)\n",
    "print()\n",
    "print(y_collected_true)\n",
    "print(pred)"
   ]
  },
  {
   "cell_type": "markdown",
   "metadata": {},
   "source": [
    "### Question 7\n",
    "\n",
    "_Is your model able to perform equally well on captured pictures when compared to testing on the dataset? The simplest way to do this check the accuracy of the predictions. For example, if the model predicted 1 out of 5 signs correctly, it's 20% accurate._\n",
    "\n",
    "_**NOTE:** You could check the accuracy manually by using `signnames.csv` (same directory). This file has a mapping from the class id (0-42) to the corresponding sign name. So, you could take the class id the model outputs, lookup the name in `signnames.csv` and see if it matches the sign from the image._\n"
   ]
  },
  {
   "cell_type": "markdown",
   "metadata": {},
   "source": [
    "**Answer:**"
   ]
  },
  {
   "cell_type": "code",
   "execution_count": null,
   "metadata": {
    "collapsed": false,
    "scrolled": false
   },
   "outputs": [],
   "source": [
    "### Visualize the softmax probabilities here.\n",
    "### Feel free to use as many code cells as needed.\n",
    "\n",
    "import pandas as pd\n",
    "\n",
    "sign_names = pd.read_csv('signnames.csv')\n",
    "\n",
    "def get_sign_name(class_index):\n",
    "    row = sign_names[sign_names.ClassId == int(class_index)]\n",
    "    return row.SignName.values[0]\n",
    "\n",
    "def get_sign_names(indices):\n",
    "    return [get_sign_name(index) for index in indices]\n",
    "\n",
    "\n",
    "for i, image in enumerate(new_inputs):\n",
    "    #image = cv2.resize(image, (image_shape[0], image_shape[1])) \n",
    "    #plt.subplot(4, 2,1+i)\n",
    "    #plt.axis('off')\n",
    "    #plt.imshow(image)\n",
    "    \n",
    "    # Plot the original image\n",
    "    plt.subplot(121)\n",
    "    image = cv2.resize(image, (image_shape[0], image_shape[1])) \n",
    "    #plt.subplot(4, 2,1+i)\n",
    "    plt.axis('off')\n",
    "    plt.imshow(image)\n",
    "    \n",
    "    # Get the top k probabilities and the classes to which they correspond\n",
    "    indices = indices_topFive\n",
    "    values = values_topFive\n",
    "    \n",
    "    # Sort in ascending order\n",
    "    idx = values.argsort()\n",
    "    values = values[idx]\n",
    "    indices = indices[idx]\n",
    "    \n",
    "    # Show a bar chart of the probabilities\n",
    "    y_pos = range(0, 200, 40)\n",
    "    \n",
    "    plt.subplot(122)\n",
    "    plt.bar(y_pos, values[i][i], align='center', alpha=0.5, color='red', width=20)\n",
    "    \n",
    "    plt.xticks(y_pos, get_sign_names(indices[i][i]))\n",
    "    locs, labels = plt.xticks()\n",
    "    plt.setp(labels, rotation=90)\n",
    "\n",
    "    plt.ylabel('Probability')\n",
    "    plt.title('Probability of top 5 classes')\n",
    "    plt.show()"
   ]
  },
  {
   "cell_type": "code",
   "execution_count": null,
   "metadata": {
    "collapsed": true
   },
   "outputs": [],
   "source": []
  },
  {
   "cell_type": "markdown",
   "metadata": {},
   "source": [
    "### Question 8\n",
    "\n",
    "*Use the model's softmax probabilities to visualize the **certainty** of its predictions, [`tf.nn.top_k`](https://www.tensorflow.org/versions/r0.12/api_docs/python/nn.html#top_k) could prove helpful here. Which predictions is the model certain of? Uncertain? If the model was incorrect in its initial prediction, does the correct prediction appear in the top k? (k should be 5 at most)*\n",
    "\n",
    "`tf.nn.top_k` will return the values and indices (class ids) of the top k predictions. So if k=3, for each sign, it'll return the 3 largest probabilities (out of a possible 43) and the correspoding class ids.\n",
    "\n",
    "Take this numpy array as an example:\n",
    "\n",
    "```\n",
    "# (5, 6) array\n",
    "a = np.array([[ 0.24879643,  0.07032244,  0.12641572,  0.34763842,  0.07893497,\n",
    "         0.12789202],\n",
    "       [ 0.28086119,  0.27569815,  0.08594638,  0.0178669 ,  0.18063401,\n",
    "         0.15899337],\n",
    "       [ 0.26076848,  0.23664738,  0.08020603,  0.07001922,  0.1134371 ,\n",
    "         0.23892179],\n",
    "       [ 0.11943333,  0.29198961,  0.02605103,  0.26234032,  0.1351348 ,\n",
    "         0.16505091],\n",
    "       [ 0.09561176,  0.34396535,  0.0643941 ,  0.16240774,  0.24206137,\n",
    "         0.09155967]])\n",
    "```\n",
    "\n",
    "Running it through `sess.run(tf.nn.top_k(tf.constant(a), k=3))` produces:\n",
    "\n",
    "```\n",
    "TopKV2(values=array([[ 0.34763842,  0.24879643,  0.12789202],\n",
    "       [ 0.28086119,  0.27569815,  0.18063401],\n",
    "       [ 0.26076848,  0.23892179,  0.23664738],\n",
    "       [ 0.29198961,  0.26234032,  0.16505091],\n",
    "       [ 0.34396535,  0.24206137,  0.16240774]]), indices=array([[3, 0, 5],\n",
    "       [0, 1, 4],\n",
    "       [0, 5, 1],\n",
    "       [1, 3, 5],\n",
    "       [1, 4, 3]], dtype=int32))\n",
    "```\n",
    "\n",
    "Looking just at the first row we get `[ 0.34763842,  0.24879643,  0.12789202]`, you can confirm these are the 3 largest probabilities in `a`. You'll also notice `[3, 0, 5]` are the corresponding indices."
   ]
  },
  {
   "cell_type": "markdown",
   "metadata": {},
   "source": [
    "**Answer:**"
   ]
  },
  {
   "cell_type": "markdown",
   "metadata": {},
   "source": [
    "> **Note**: Once you have completed all of the code implementations and successfully answered each question above, you may finalize your work by exporting the iPython Notebook as an HTML document. You can do this by using the menu above and navigating to  \\n\",\n",
    "    \"**File -> Download as -> HTML (.html)**. Include the finished document along with this notebook as your submission."
   ]
  },
  {
   "cell_type": "code",
   "execution_count": null,
   "metadata": {
    "collapsed": true
   },
   "outputs": [],
   "source": []
  }
 ],
 "metadata": {
  "anaconda-cloud": {},
  "kernelspec": {
   "display_name": "Python 3",
   "language": "python",
   "name": "python3"
  },
  "language_info": {
   "codemirror_mode": {
    "name": "ipython",
    "version": 3
   },
   "file_extension": ".py",
   "mimetype": "text/x-python",
   "name": "python",
   "nbconvert_exporter": "python",
   "pygments_lexer": "ipython3",
   "version": "3.5.2"
  },
  "widgets": {
   "state": {},
   "version": "1.1.2"
  }
 },
 "nbformat": 4,
 "nbformat_minor": 1
}
